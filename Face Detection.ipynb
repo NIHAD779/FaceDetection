{
 "cells": [
  {
   "cell_type": "code",
   "execution_count": 1,
   "id": "6310df17",
   "metadata": {},
   "outputs": [],
   "source": [
    "import sys\n",
    "import os\n",
    "import time\n",
    "import uuid\n",
    "import cv2\n",
    "import json\n",
    "import pandas as pd\n",
    "import numpy as np\n",
    "import tensorflow as tf\n",
    "from matplotlib import pyplot as plt\n",
    "import albumentations as alb"
   ]
  },
  {
   "cell_type": "code",
   "execution_count": 2,
   "id": "e07e75c2",
   "metadata": {},
   "outputs": [],
   "source": [
    "IMAGES_PATH = os.path.join('data','images')\n",
    "number_images = 30"
   ]
  },
  {
   "cell_type": "code",
   "execution_count": 4,
   "id": "5749da7f",
   "metadata": {},
   "outputs": [
    {
     "name": "stderr",
     "output_type": "stream",
     "text": [
      "OpenCV: out device of bound (0-0): 1\n",
      "OpenCV: camera failed to properly initialize!\n"
     ]
    }
   ],
   "source": [
    "cap = cv2.VideoCapture(1)"
   ]
  },
  {
   "cell_type": "code",
   "execution_count": 8,
   "id": "bf017918",
   "metadata": {},
   "outputs": [
    {
     "name": "stdout",
     "output_type": "stream",
     "text": [
      "done\n"
     ]
    }
   ],
   "source": [
    "os.makedirs(IMAGES_PATH, exist_ok=True)\n",
    "for imgnum in range(number_images):\n",
    "    ret,frame = cap.read()\n",
    "    imgname = os.path.join(IMAGES_PATH,f'{str(uuid.uuid1())}.jpg')\n",
    "    cv2.imwrite(imgname,frame)\n",
    "    cv2.imshow('nihad',frame)\n",
    "    time.sleep(0.5)\n",
    "    \n",
    "    if cv2.waitKey(1) & 0xFF == ord('q'):\n",
    "        break\n",
    "cap.release()\n",
    "cv2.destroyAllWindows()\n",
    "print('done')"
   ]
  },
  {
   "cell_type": "code",
   "execution_count": null,
   "id": "452ab1d9",
   "metadata": {
    "scrolled": true
   },
   "outputs": [
    {
     "name": "stdout",
     "output_type": "stream",
     "text": [
      "[\u001b[1m\u001b[37mINFO   \u001b[0m] \u001b[36m__init__\u001b[0m:\u001b[36mget_config\u001b[0m:\u001b[36m70\u001b[0m - \u001b[1m\u001b[37mLoading config file from: /Users/muhammednihad/.labelmerc\u001b[0m\n",
      "2023-08-15 11:33:14.445 python[25920:2307744] +[CATransaction synchronize] called within transaction\n",
      "2023-08-15 11:33:37.979 python[25920:2307744] +[CATransaction synchronize] called within transaction\n",
      "2023-08-15 11:33:48.221 python[25920:2307744] +[CATransaction synchronize] called within transaction\n",
      "2023-08-15 11:33:50.625 python[25920:2307744] +[CATransaction synchronize] called within transaction\n"
     ]
    }
   ],
   "source": [
    "!labelme"
   ]
  },
  {
   "cell_type": "code",
   "execution_count": 3,
   "id": "305a00ac",
   "metadata": {},
   "outputs": [
    {
     "data": {
      "text/plain": [
       "[PhysicalDevice(name='/physical_device:GPU:0', device_type='GPU')]"
      ]
     },
     "execution_count": 3,
     "metadata": {},
     "output_type": "execute_result"
    }
   ],
   "source": [
    "tf.config.list_physical_devices('GPU')"
   ]
  },
  {
   "cell_type": "code",
   "execution_count": 4,
   "id": "7be97c77",
   "metadata": {},
   "outputs": [
    {
     "name": "stderr",
     "output_type": "stream",
     "text": [
      "2023-08-15 11:54:48.890693: I metal_plugin/src/device/metal_device.cc:1154] Metal device set to: Apple M1 Pro\n",
      "2023-08-15 11:54:48.890784: I metal_plugin/src/device/metal_device.cc:296] systemMemory: 16.00 GB\n",
      "2023-08-15 11:54:48.890796: I metal_plugin/src/device/metal_device.cc:313] maxCacheSize: 5.33 GB\n",
      "2023-08-15 11:54:48.890982: I tensorflow/core/common_runtime/pluggable_device/pluggable_device_factory.cc:306] Could not identify NUMA node of platform GPU ID 0, defaulting to 0. Your kernel may not have been built with NUMA support.\n",
      "2023-08-15 11:54:48.891285: I tensorflow/core/common_runtime/pluggable_device/pluggable_device_factory.cc:272] Created TensorFlow device (/job:localhost/replica:0/task:0/device:GPU:0 with 0 MB memory) -> physical PluggableDevice (device: 0, name: METAL, pci bus id: <undefined>)\n"
     ]
    }
   ],
   "source": [
    "images = tf.data.Dataset.list_files('data/images/*.jpg', shuffle=False)"
   ]
  },
  {
   "cell_type": "code",
   "execution_count": 5,
   "id": "c0e2451f",
   "metadata": {},
   "outputs": [
    {
     "name": "stderr",
     "output_type": "stream",
     "text": [
      "2023-08-15 11:54:52.110071: I tensorflow/core/common_runtime/executor.cc:1197] [/device:CPU:0] (DEBUG INFO) Executor start aborting (this does not indicate an error and you can ignore this message): INVALID_ARGUMENT: You must feed a value for placeholder tensor 'Placeholder/_0' with dtype string and shape [90]\n",
      "\t [[{{node Placeholder/_0}}]]\n"
     ]
    },
    {
     "data": {
      "text/plain": [
       "b'data/images/40b3ecea-3b31-11ee-9c10-fa67b53f988b.jpg'"
      ]
     },
     "execution_count": 5,
     "metadata": {},
     "output_type": "execute_result"
    }
   ],
   "source": [
    "images.as_numpy_iterator().next()"
   ]
  },
  {
   "cell_type": "code",
   "execution_count": 6,
   "id": "9306e0af",
   "metadata": {},
   "outputs": [],
   "source": [
    "total_samples = len(list(images))\n",
    "\n",
    "# Calculate the sizes of the different sets\n",
    "train_size = int(0.7 * total_samples)  # 70% for training\n",
    "cv_size = int(0.15 * total_samples)    # 15% for cross-validation\n",
    "test_size = total_samples - train_size - cv_size  # Remaining for testing\n",
    "\n",
    "# Shuffle the dataset if needed\n",
    "images = images.shuffle(total_samples, reshuffle_each_iteration=False)\n",
    "\n",
    "# Split the dataset into train, CV, and test sets\n",
    "train_dataset = images.take(train_size)\n",
    "remaining_dataset = images.skip(train_size)\n",
    "cv_dataset = remaining_dataset.take(cv_size)\n",
    "test_dataset = remaining_dataset.skip(cv_size)"
   ]
  },
  {
   "cell_type": "code",
   "execution_count": 7,
   "id": "cd99f84f",
   "metadata": {},
   "outputs": [
    {
     "name": "stdout",
     "output_type": "stream",
     "text": [
      "62 13 15\n",
      "Images copied to respective folders.\n"
     ]
    },
    {
     "name": "stderr",
     "output_type": "stream",
     "text": [
      "2023-08-15 11:55:37.798803: I tensorflow/core/common_runtime/executor.cc:1197] [/device:CPU:0] (DEBUG INFO) Executor start aborting (this does not indicate an error and you can ignore this message): INVALID_ARGUMENT: You must feed a value for placeholder tensor 'Placeholder/_0' with dtype string and shape [90]\n",
      "\t [[{{node Placeholder/_0}}]]\n",
      "2023-08-15 11:55:37.798999: I tensorflow/core/common_runtime/executor.cc:1197] [/device:CPU:0] (DEBUG INFO) Executor start aborting (this does not indicate an error and you can ignore this message): INVALID_ARGUMENT: You must feed a value for placeholder tensor 'Placeholder/_0' with dtype string and shape [90]\n",
      "\t [[{{node Placeholder/_0}}]]\n"
     ]
    }
   ],
   "source": [
    "import os\n",
    "import shutil\n",
    "import random\n",
    "\n",
    "# Set the paths for the source images and destination folders\n",
    "source_images_path = 'data/images/'\n",
    "destination_train_path = 'data/train/images'\n",
    "destination_cv_path = 'data/val/images'\n",
    "destination_test_path = 'data/test/images'\n",
    "\n",
    "# Create the destination directories if they don't exist\n",
    "os.makedirs(destination_train_path, exist_ok=True)\n",
    "os.makedirs(destination_cv_path, exist_ok=True)\n",
    "os.makedirs(destination_test_path, exist_ok=True)\n",
    "\n",
    "# Get a list of all image file paths\n",
    "image_file_paths = [image.decode('utf-8') for image in list(images.as_numpy_iterator())]\n",
    "\n",
    "# Shuffle the list to ensure randomness\n",
    "# random.shuffle(image_file_paths)\n",
    "\n",
    "# Calculate the number of images for each set\n",
    "total_images = len(image_file_paths)\n",
    "train_count = int(0.7 * total_images)\n",
    "cv_count = int(0.15 * total_images)\n",
    "test_count = total_images - train_count - cv_count\n",
    "print(train_count,cv_count,test_count)\n",
    "# Copy images to respective folders\n",
    "for i, image_path in enumerate(image_file_paths):\n",
    "    if i < train_count:\n",
    "        destination_folder = destination_train_path\n",
    "    elif i < train_count + cv_count:\n",
    "        destination_folder = destination_cv_path\n",
    "    else:\n",
    "        destination_folder = destination_test_path\n",
    "    \n",
    "    destination_file = os.path.join(destination_folder, os.path.basename(image_path))\n",
    "    shutil.copy(image_path, destination_file)\n",
    "\n",
    "print(\"Images copied to respective folders.\")\n"
   ]
  },
  {
   "cell_type": "code",
   "execution_count": 9,
   "id": "179aa924",
   "metadata": {},
   "outputs": [
    {
     "name": "stdout",
     "output_type": "stream",
     "text": [
      "JSON label files copied to respective folders.\n"
     ]
    }
   ],
   "source": [
    "for folder in ['train', 'test', 'val']:\n",
    "    for file in os.listdir(os.path.join('data', folder, 'images')):\n",
    "        filename = file.split('.')[0] + '.json'\n",
    "        existing_filepath = os.path.join('data', 'labels', filename)\n",
    "\n",
    "        if os.path.exists(existing_filepath):\n",
    "            new_folder = os.path.join('data', folder, 'labels')\n",
    "            os.makedirs(new_folder, exist_ok=True)  # Create folder if it doesn't exist\n",
    "            new_filepath = os.path.join(new_folder, filename)\n",
    "            shutil.copy(existing_filepath, new_filepath)\n",
    "\n",
    "print(\"JSON label files copied to respective folders.\")"
   ]
  },
  {
   "cell_type": "code",
   "execution_count": 10,
   "id": "a9c923f6",
   "metadata": {},
   "outputs": [
    {
     "data": {
      "text/plain": [
       "62"
      ]
     },
     "execution_count": 10,
     "metadata": {},
     "output_type": "execute_result"
    }
   ],
   "source": [
    "len(train_dataset)"
   ]
  },
  {
   "cell_type": "code",
   "execution_count": 11,
   "id": "3fb90ae6",
   "metadata": {},
   "outputs": [
    {
     "data": {
      "text/plain": [
       "13"
      ]
     },
     "execution_count": 11,
     "metadata": {},
     "output_type": "execute_result"
    }
   ],
   "source": [
    "len(cv_dataset)"
   ]
  },
  {
   "cell_type": "code",
   "execution_count": 12,
   "id": "af42057e",
   "metadata": {},
   "outputs": [
    {
     "data": {
      "text/plain": [
       "15"
      ]
     },
     "execution_count": 12,
     "metadata": {},
     "output_type": "execute_result"
    }
   ],
   "source": [
    "len(test_dataset)"
   ]
  },
  {
   "cell_type": "code",
   "execution_count": 13,
   "id": "55a6c601",
   "metadata": {},
   "outputs": [],
   "source": [
    "augmentor = alb.Compose([\n",
    "                        alb.HorizontalFlip(p=0.5),\n",
    "                        alb.RandomBrightnessContrast(p=0.2),\n",
    "                        alb.RandomGamma(p=0.2),\n",
    "                        alb.RGBShift(p=0.2),\n",
    "                        alb.VerticalFlip(p=0.5),\n",
    "                        ],\n",
    "                       bbox_params = alb.BboxParams(format='albumentations',\n",
    "                                                   label_fields=['class_labels']))"
   ]
  },
  {
   "cell_type": "code",
   "execution_count": 32,
   "id": "50b98f9d",
   "metadata": {},
   "outputs": [],
   "source": [
    "img = cv2.imread(os.path.join('data','train', 'images','4e6e59ec-3b31-11ee-9c10-fa67b53f988b.jpg'))"
   ]
  },
  {
   "cell_type": "code",
   "execution_count": 34,
   "id": "1b32d2d9",
   "metadata": {},
   "outputs": [
    {
     "data": {
      "text/plain": [
       "(1080, 1920, 3)"
      ]
     },
     "execution_count": 34,
     "metadata": {},
     "output_type": "execute_result"
    }
   ],
   "source": [
    "img.shape"
   ]
  },
  {
   "cell_type": "code",
   "execution_count": 26,
   "id": "b6a466c7",
   "metadata": {},
   "outputs": [],
   "source": [
    "with open(os.path.join('data', 'train', 'labels', '4e6e59ec-3b31-11ee-9c10-fa67b53f988b.json'), 'r') as f:\n",
    "    label = json.load(f)"
   ]
  },
  {
   "cell_type": "code",
   "execution_count": 27,
   "id": "d365a8d7",
   "metadata": {},
   "outputs": [
    {
     "data": {
      "text/plain": [
       "[[756.1538461538462, 94.61538461538461],\n",
       " [1394.6153846153845, 905.3846153846154]]"
      ]
     },
     "execution_count": 27,
     "metadata": {},
     "output_type": "execute_result"
    }
   ],
   "source": [
    "label['shapes'][0]['points']"
   ]
  },
  {
   "cell_type": "code",
   "execution_count": 28,
   "id": "e4423f59",
   "metadata": {},
   "outputs": [],
   "source": [
    "coords = [0,0,0,0]\n",
    "coords[0] = label['shapes'][0]['points'][0][0]\n",
    "coords[1] = label['shapes'][0]['points'][0][1]\n",
    "coords[2] = label['shapes'][0]['points'][1][0]\n",
    "coords[3] = label['shapes'][0]['points'][1][1]"
   ]
  },
  {
   "cell_type": "code",
   "execution_count": 29,
   "id": "9426b362",
   "metadata": {},
   "outputs": [
    {
     "data": {
      "text/plain": [
       "[756.1538461538462, 94.61538461538461, 1394.6153846153845, 905.3846153846154]"
      ]
     },
     "execution_count": 29,
     "metadata": {},
     "output_type": "execute_result"
    }
   ],
   "source": [
    "coords"
   ]
  },
  {
   "cell_type": "code",
   "execution_count": 35,
   "id": "6d8db536",
   "metadata": {},
   "outputs": [],
   "source": [
    "coords = list(np.divide(coords, [1080,1920,1080,1920])) "
   ]
  },
  {
   "cell_type": "code",
   "execution_count": 36,
   "id": "ca397139",
   "metadata": {},
   "outputs": [
    {
     "data": {
      "text/plain": [
       "[0.0010939725783475783,\n",
       " 0.00010266426282051282,\n",
       " 0.002017672720797721,\n",
       " 0.0009824051816239316]"
      ]
     },
     "execution_count": 36,
     "metadata": {},
     "output_type": "execute_result"
    }
   ],
   "source": [
    "coords"
   ]
  },
  {
   "cell_type": "code",
   "execution_count": null,
   "id": "e4806e7a",
   "metadata": {},
   "outputs": [],
   "source": []
  },
  {
   "cell_type": "code",
   "execution_count": 15,
   "id": "754b568f",
   "metadata": {},
   "outputs": [
    {
     "name": "stdout",
     "output_type": "stream",
     "text": [
      "Expected x_min for bbox [1.157451923076923, 0.32211538461538464, 2.0084134615384612, 1.8637820512820513, 'face'] to be in the range [0.0, 1.0], got 1.157451923076923.\n",
      "Expected x_max for bbox [0.7560096153846154, 0.8766025641025641, 1.7007211538461537, 1.7900641025641024, 'face'] to be in the range [0.0, 1.0], got 1.7007211538461537.\n",
      "Expected x_min for bbox [1.0733173076923077, 0.3189102564102564, 1.9939903846153844, 1.6810897435897436, 'face'] to be in the range [0.0, 1.0], got 1.0733173076923077.\n",
      "Expected x_max for bbox [0.09014423076923075, 0.9086538461538463, 1.2055288461538463, 2.0176282051282053, 'face'] to be in the range [0.0, 1.0], got 1.2055288461538463.\n",
      "Expected x_min for bbox [1.3954326923076923, 0.5560897435897435, 2.0685096153846154, 1.780448717948718, 'face'] to be in the range [0.0, 1.0], got 1.3954326923076923.\n",
      "Expected x_max for bbox [0.9098557692307692, 0.33814102564102566, 2.1237980769230766, 2.004807692307692, 'face'] to be in the range [0.0, 1.0], got 2.1237980769230766.\n",
      "Expected x_min for bbox [1.2367788461538463, 0.3926282051282051, 2.080528846153846, 1.7964743589743588, 'face'] to be in the range [0.0, 1.0], got 1.2367788461538463.\n",
      "Expected x_max for bbox [0.905048076923077, 0.4983974358974359, 1.9747596153846154, 1.8894230769230769, 'face'] to be in the range [0.0, 1.0], got 1.9747596153846154.\n",
      "Expected x_min for bbox [1.296875, 0.6586538461538461, 1.8882211538461537, 1.6233974358974357, 'face'] to be in the range [0.0, 1.0], got 1.296875.\n",
      "Expected x_min for bbox [1.1526442307692308, 0.3189102564102564, 1.9507211538461537, 1.783653846153846, 'face'] to be in the range [0.0, 1.0], got 1.1526442307692308.\n",
      "Expected x_min for bbox [1.2055288461538463, 0.29006410256410253, 2.032451923076923, 1.8092948717948718, 'face'] to be in the range [0.0, 1.0], got 1.2055288461538463.\n",
      "Expected x_min for bbox [1.3545673076923077, 0.6009615384615384, 2.0925480769230766, 1.7067307692307692, 'face'] to be in the range [0.0, 1.0], got 1.3545673076923077.\n",
      "Expected x_min for bbox [1.203125, 0.2644230769230769, 2.0132211538461537, 1.732371794871795, 'face'] to be in the range [0.0, 1.0], got 1.203125.\n",
      "Expected x_max for bbox [0.6478365384615385, 0.6842948717948718, 1.705528846153846, 1.8317307692307692, 'face'] to be in the range [0.0, 1.0], got 1.705528846153846.\n",
      "Expected x_min for bbox [1.3353365384615385, 0.23878205128205127, 2.034855769230769, 1.8669871794871793, 'face'] to be in the range [0.0, 1.0], got 1.3353365384615385.\n",
      "Expected x_min for bbox [1.188701923076923, 0.33493589743589747, 1.9747596153846154, 1.7259615384615385, 'face'] to be in the range [0.0, 1.0], got 1.188701923076923.\n",
      "Expected x_max for bbox [0.9623161764705891, 0.028186274509803867, 2.380477260348585, 2.247916666666667, 'face'] to be in the range [0.0, 1.0], got 2.380477260348585.\n",
      "Expected x_min for bbox [1.1670673076923077, 0.33493589743589747, 1.9795673076923077, 1.719551282051282, 'face'] to be in the range [0.0, 1.0], got 1.1670673076923077.\n",
      "Expected x_min for bbox [1.4242788461538463, 0.22596153846153844, 2.556490384615384, 2.065705128205128, 'face'] to be in the range [0.0, 1.0], got 1.4242788461538463.\n",
      "Expected x_min for bbox [1.5805288461538463, 0.23878205128205127, 2.5396634615384612, 2.081730769230769, 'face'] to be in the range [0.0, 1.0], got 1.5805288461538463.\n",
      "Expected x_min for bbox [1.1310096153846154, 0.10416666666666667, 2.111778846153846, 1.985576923076923, 'face'] to be in the range [0.0, 1.0], got 1.1310096153846154.\n",
      "Expected x_min for bbox [1.0084134615384615, 0.2580128205128205, 1.9483173076923077, 1.7163461538461537, 'face'] to be in the range [0.0, 1.0], got 1.0084134615384615.\n",
      "Expected x_min for bbox [1.0685096153846154, 0.12339743589743589, 2.018028846153846, 1.8637820512820513, 'face'] to be in the range [0.0, 1.0], got 1.0685096153846154.\n",
      "Expected x_max for bbox [0.6622596153846154, 0.6746794871794872, 1.7872596153846154, 1.844551282051282, 'face'] to be in the range [0.0, 1.0], got 1.7872596153846154.\n",
      "Expected x_min for bbox [1.1790865384615385, 0.3477564102564103, 1.9795673076923077, 1.655448717948718, 'face'] to be in the range [0.0, 1.0], got 1.1790865384615385.\n",
      "Expected x_min for bbox [1.5444711538461537, 0.37019230769230765, 2.462740384615384, 2.0689102564102564, 'face'] to be in the range [0.0, 1.0], got 1.5444711538461537.\n",
      "Expected x_min for bbox [1.0588942307692308, 0.18429487179487178, 1.9675480769230766, 1.8189102564102564, 'face'] to be in the range [0.0, 1.0], got 1.0588942307692308.\n",
      "Expected x_min for bbox [1.0540865384615385, 0.546474358974359, 1.8737980769230766, 1.7003205128205126, 'face'] to be in the range [0.0, 1.0], got 1.0540865384615385.\n",
      "Expected x_min for bbox [1.1286057692307692, 0.05608974358974361, 2.246394230769231, 1.9983974358974357, 'face'] to be in the range [0.0, 1.0], got 1.1286057692307692.\n",
      "Expected x_min for bbox [1.0588942307692308, 0.6426282051282051, 1.8906249999999996, 1.6971153846153846, 'face'] to be in the range [0.0, 1.0], got 1.0588942307692308.\n",
      "Expected x_min for bbox [1.032451923076923, 0.47275641025641024, 1.9194711538461537, 1.7580128205128205, 'face'] to be in the range [0.0, 1.0], got 1.032451923076923.\n",
      "Expected x_min for bbox [1.219951923076923, 0.2644230769230769, 2.0228365384615383, 1.6522435897435899, 'face'] to be in the range [0.0, 1.0], got 1.219951923076923.\n",
      "Expected x_min for bbox [1.0204326923076923, 0.3637820512820513, 1.893028846153846, 1.8509615384615385, 'face'] to be in the range [0.0, 1.0], got 1.0204326923076923.\n",
      "Expected x_min for bbox [1.342548076923077, 0.5689102564102565, 2.0372596153846154, 1.6458333333333333, 'face'] to be in the range [0.0, 1.0], got 1.342548076923077.\n",
      "Expected x_min for bbox [1.3665865384615385, 0.16506410256410256, 2.438701923076923, 2.1233974358974357, 'face'] to be in the range [0.0, 1.0], got 1.3665865384615385.\n",
      "Expected x_min for bbox [1.1742788461538463, 0.34455128205128205, 1.9651442307692306, 1.6939102564102564, 'face'] to be in the range [0.0, 1.0], got 1.1742788461538463.\n",
      "Expected x_min for bbox [1.1213942307692308, 0.14903846153846156, 2.253605769230769, 2.0689102564102564, 'face'] to be in the range [0.0, 1.0], got 1.1213942307692308.\n",
      "Expected x_min for bbox [1.0805288461538463, 0.24839743589743588, 2.025240384615384, 1.7099358974358974, 'face'] to be in the range [0.0, 1.0], got 1.0805288461538463.\n",
      "Expected x_min for bbox [1.4170673076923077, 0.28685897435897434, 2.426682692307692, 2.0624999999999996, 'face'] to be in the range [0.0, 1.0], got 1.4170673076923077.\n",
      "Expected x_min for bbox [1.1814903846153846, 0.1971153846153846, 2.1790865384615383, 1.8862179487179487, 'face'] to be in the range [0.0, 1.0], got 1.1814903846153846.\n",
      "Expected x_max for bbox [0.9290865384615385, 0.5817307692307693, 1.768028846153846, 1.783653846153846, 'face'] to be in the range [0.0, 1.0], got 1.768028846153846.\n",
      "Expected x_min for bbox [1.3209134615384615, 0.2644230769230769, 2.0853365384615383, 1.924679487179487, 'face'] to be in the range [0.0, 1.0], got 1.3209134615384615.\n",
      "Expected x_min for bbox [1.344951923076923, 0.594551282051282, 1.957932692307692, 1.5849358974358974, 'face'] to be in the range [0.0, 1.0], got 1.344951923076923.\n",
      "Expected x_min for bbox [1.3329326923076923, 0.3125, 2.1165865384615383, 1.7868589743589742, 'face'] to be in the range [0.0, 1.0], got 1.3329326923076923.\n",
      "Expected x_min for bbox [1.063701923076923, 0.32211538461538464, 1.972355769230769, 1.8637820512820513, 'face'] to be in the range [0.0, 1.0], got 1.063701923076923.\n",
      "Expected x_min for bbox [1.126201923076923, 0.7163461538461539, 1.4915865384615385, 1.607371794871795, 'face'] to be in the range [0.0, 1.0], got 1.126201923076923.\n",
      "Expected x_min for bbox [1.1598557692307692, 0.30288461538461536, 2.0685096153846154, 1.7900641025641024, 'face'] to be in the range [0.0, 1.0], got 1.1598557692307692.\n",
      "Expected x_min for bbox [1.0276442307692308, 0.5496794871794872, 1.895432692307692, 1.6137820512820513, 'face'] to be in the range [0.0, 1.0], got 1.0276442307692308.\n",
      "Expected x_min for bbox [1.1382211538461537, 0.3862179487179487, 1.9675480769230766, 1.767628205128205, 'face'] to be in the range [0.0, 1.0], got 1.1382211538461537.\n",
      "Expected x_max for bbox [0.8689903846153847, 0.8637820512820512, 1.5492788461538463, 1.4631410256410255, 'face'] to be in the range [0.0, 1.0], got 1.5492788461538463.\n",
      "Expected x_min for bbox [1.1334134615384615, 0.33493589743589747, 1.9531249999999996, 1.6971153846153846, 'face'] to be in the range [0.0, 1.0], got 1.1334134615384615.\n"
     ]
    },
    {
     "name": "stdout",
     "output_type": "stream",
     "text": [
      "Expected x_min for bbox [1.532451923076923, 0.4471153846153847, 2.1646634615384612, 1.7451923076923075, 'face'] to be in the range [0.0, 1.0], got 1.532451923076923.\n",
      "Expected x_min for bbox [1.0204326923076923, 0.09775641025641028, 2.1862980769230766, 1.9535256410256412, 'face'] to be in the range [0.0, 1.0], got 1.0204326923076923.\n",
      "Expected x_min for bbox [1.0709134615384615, 0.5625, 1.8040865384615383, 1.7644230769230769, 'face'] to be in the range [0.0, 1.0], got 1.0709134615384615.\n",
      "Expected x_min for bbox [1.2223557692307692, 0.07852564102564102, 2.205528846153846, 1.767628205128205, 'face'] to be in the range [0.0, 1.0], got 1.2223557692307692.\n",
      "Expected x_max for bbox [0.9915865384615385, 0.01762820512820514, 2.2175480769230766, 2.2451923076923075, 'face'] to be in the range [0.0, 1.0], got 2.2175480769230766.\n",
      "Expected x_min for bbox [1.0901442307692308, 0.1169871794871795, 1.9483173076923077, 1.7964743589743588, 'face'] to be in the range [0.0, 1.0], got 1.0901442307692308.\n",
      "Expected x_min for bbox [1.078125, 0.2580128205128205, 1.9843749999999996, 1.7163461538461537, 'face'] to be in the range [0.0, 1.0], got 1.078125.\n",
      "Expected x_min for bbox [1.6069711538461537, 0.1618589743589744, 2.5372596153846154, 2.046474358974359, 'face'] to be in the range [0.0, 1.0], got 1.6069711538461537.\n",
      "Expected x_min for bbox [1.6069711538461537, 0.32211538461538464, 2.558894230769231, 2.0368589743589745, 'face'] to be in the range [0.0, 1.0], got 1.6069711538461537.\n",
      "Expected x_min for bbox [1.2920673076923077, 0.18429487179487178, 2.3281249999999996, 2.0176282051282053, 'face'] to be in the range [0.0, 1.0], got 1.2920673076923077.\n",
      "Expected x_min for bbox [1.265625, 0.28044871794871795, 2.0372596153846154, 1.8317307692307692, 'face'] to be in the range [0.0, 1.0], got 1.265625.\n",
      "Expected x_min for bbox [1.4675480769230769, 0.41506410256410253, 2.2728365384615383, 1.8253205128205126, 'face'] to be in the range [0.0, 1.0], got 1.4675480769230769.\n",
      "Expected x_min for bbox [1.469951923076923, 0.46314102564102566, 2.219951923076923, 1.8509615384615385, 'face'] to be in the range [0.0, 1.0], got 1.469951923076923.\n",
      "Expected x_max for bbox [0.7704326923076923, 0.7291666666666666, 1.7271634615384612, 1.8125, 'face'] to be in the range [0.0, 1.0], got 1.7271634615384612.\n",
      "Expected x_max for bbox [0.9819711538461539, 0.1875, 2.344951923076923, 2.2451923076923075, 'face'] to be in the range [0.0, 1.0], got 2.344951923076923.\n",
      "Expected x_min for bbox [1.2079326923076923, 0.7387820512820512, 1.8593749999999996, 1.6330128205128205, 'face'] to be in the range [0.0, 1.0], got 1.2079326923076923.\n",
      "Expected x_min for bbox [1.3209134615384615, 0.5817307692307693, 2.0468749999999996, 1.7067307692307692, 'face'] to be in the range [0.0, 1.0], got 1.3209134615384615.\n",
      "Expected x_min for bbox [1.6310096153846154, 0.5432692307692307, 2.2656249999999996, 1.844551282051282, 'face'] to be in the range [0.0, 1.0], got 1.6310096153846154.\n",
      "Expected x_min for bbox [1.4819711538461537, 0.5016025641025641, 2.090144230769231, 1.7708333333333333, 'face'] to be in the range [0.0, 1.0], got 1.4819711538461537.\n",
      "Expected x_min for bbox [1.1069711538461537, 0.5112179487179487, 1.9843749999999996, 1.9150641025641024, 'face'] to be in the range [0.0, 1.0], got 1.1069711538461537.\n"
     ]
    }
   ],
   "source": [
    "for partition in ['train', 'test', 'val']:\n",
    "    for image in os.listdir(os.path.join('data', partition, 'images')):\n",
    "        img = cv2.imread(os.path.join('data', partition, 'images', image))\n",
    "\n",
    "        coords = [0, 0, 0.00001, 0.00001]\n",
    "        label_path = os.path.join('data', partition, 'labels', f'{image.split(\".\")[0]}.json')\n",
    "        \n",
    "        if os.path.exists(label_path):\n",
    "            with open(label_path, 'r') as f:\n",
    "                label = json.load(f)\n",
    "\n",
    "            coords[0] = label['shapes'][0]['points'][0][0]\n",
    "            coords[1] = label['shapes'][0]['points'][0][1]\n",
    "            coords[2] = label['shapes'][0]['points'][1][0]\n",
    "            coords[3] = label['shapes'][0]['points'][1][1]\n",
    "            coords = list(np.divide(coords, [640, 480, 640, 480]))\n",
    "\n",
    "        try:\n",
    "            # Create the destination folder if it does not exist\n",
    "            destination_folder = os.path.join('aug_data', partition, 'images')\n",
    "            os.makedirs(destination_folder, exist_ok=True)\n",
    "\n",
    "            for x in range(60):\n",
    "                augmented = augmentor(image=img, bboxes=[coords], class_labels=['face'])\n",
    "                output_image_path = os.path.join(destination_folder, f'{image.split(\".\")[0]}.{x}.jpg')\n",
    "                cv2.imwrite(output_image_path, augmented['image'])\n",
    "\n",
    "                annotation = {'image': image}\n",
    "\n",
    "                if os.path.exists(label_path) and len(augmented['bboxes']) > 0:\n",
    "                    annotation['bbox'] = augmented['bboxes'][0]\n",
    "                    annotation['class'] = 1\n",
    "                else:\n",
    "                    annotation['bbox'] = [0, 0, 0, 0]\n",
    "                    annotation['class'] = 0\n",
    "\n",
    "                output_label_path = os.path.join('aug_data', partition, 'labels', f'{image.split(\".\")[0]}.{x}.json')\n",
    "                os.makedirs(os.path.dirname(output_label_path), exist_ok=True)\n",
    "                with open(output_label_path, 'w') as f:\n",
    "                    json.dump(annotation, f)\n",
    "\n",
    "        except Exception as e:\n",
    "            print(e)"
   ]
  },
  {
   "cell_type": "code",
   "execution_count": 18,
   "id": "97255d78",
   "metadata": {},
   "outputs": [],
   "source": [
    "def load_image(x): \n",
    "    byte_img = tf.io.read_file(x)\n",
    "    img = tf.io.decode_jpeg(byte_img)\n",
    "    return img"
   ]
  },
  {
   "cell_type": "code",
   "execution_count": 19,
   "id": "a7d81960",
   "metadata": {},
   "outputs": [],
   "source": [
    "train_images = tf.data.Dataset.list_files('aug_data/train/images/*.jpg', shuffle=False)\n",
    "train_images = train_images.map(load_image)\n",
    "train_images = train_images.map(lambda x: tf.image.resize(x, (120,120)))\n",
    "train_images = train_images.map(lambda x: x/255)"
   ]
  },
  {
   "cell_type": "code",
   "execution_count": 22,
   "id": "e8963307",
   "metadata": {},
   "outputs": [],
   "source": [
    "test_images = tf.data.Dataset.list_files('aug_data/test/images/*.jpg', shuffle=False)\n",
    "test_images = test_images.map(load_image)\n",
    "test_images = test_images.map(lambda x: tf.image.resize(x, (120,120)))\n",
    "test_images = test_images.map(lambda x: x/255)"
   ]
  },
  {
   "cell_type": "code",
   "execution_count": 23,
   "id": "25dc2162",
   "metadata": {},
   "outputs": [],
   "source": [
    "val_images = tf.data.Dataset.list_files('aug_data/val/images/*.jpg', shuffle=False)\n",
    "val_images = val_images.map(load_image)\n",
    "val_images = val_images.map(lambda x: tf.image.resize(x, (120,120)))\n",
    "val_images = val_images.map(lambda x: x/255)"
   ]
  },
  {
   "cell_type": "code",
   "execution_count": null,
   "id": "4eebe359",
   "metadata": {},
   "outputs": [],
   "source": [
    "def load_labels(label_path):\n",
    "    with open(label_path.numpy(), 'r', encoding = \"utf-8\") as f:\n",
    "        label = json.load(f)\n",
    "        \n",
    "    return [label['class']], label['bbox']"
   ]
  }
 ],
 "metadata": {
  "kernelspec": {
   "display_name": "Python 3 (ipykernel)",
   "language": "python",
   "name": "python3"
  },
  "language_info": {
   "codemirror_mode": {
    "name": "ipython",
    "version": 3
   },
   "file_extension": ".py",
   "mimetype": "text/x-python",
   "name": "python",
   "nbconvert_exporter": "python",
   "pygments_lexer": "ipython3",
   "version": "3.10.12"
  }
 },
 "nbformat": 4,
 "nbformat_minor": 5
}
